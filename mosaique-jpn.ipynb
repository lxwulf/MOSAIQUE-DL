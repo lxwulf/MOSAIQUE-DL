{
 "metadata": {
  "language_info": {
   "codemirror_mode": {
    "name": "ipython",
    "version": 3
   },
   "file_extension": ".py",
   "mimetype": "text/x-python",
   "name": "python",
   "nbconvert_exporter": "python",
   "pygments_lexer": "ipython3",
   "version": "3.9.5"
  },
  "orig_nbformat": 2,
  "kernelspec": {
   "name": "python3",
   "display_name": "Python 3.9.5 64-bit",
   "metadata": {
    "interpreter": {
     "hash": "b9b21285501276dba7c0d649f9b8b5467c1420b9d828a3a3cd63fe6d7bd2277f"
    }
   }
  }
 },
 "nbformat": 4,
 "nbformat_minor": 2,
 "cells": [
  {
   "cell_type": "code",
   "execution_count": 9,
   "metadata": {},
   "outputs": [],
   "source": [
    "import time\n",
    "from selenium import webdriver\n",
    "from selenium.webdriver.common.keys import Keys\n",
    "\n",
    "chromeOptions = webdriver.ChromeOptions()\n",
    "chromeOptions.binary_location = r\"C:\\Program Files\\BraveSoftware\\Brave-Browser-Nightly\\Application\\brave.exe\"\n",
    "chromeOptions.add_argument('headless')\n",
    "chromeOptions.add_argument('window-size=1200x600')\n",
    "\n",
    "driverselector = './drivers/chromedriver.exe'\n",
    "browser = webdriver.Chrome(driverselector, options=chromeOptions)\n",
    "\n",
    "browser.get('https://store.steampowered.com/points/shop/app/1192640/cluster/1')\n",
    "time.sleep(6)\n"
   ]
  },
  {
   "cell_type": "code",
   "execution_count": 10,
   "metadata": {},
   "outputs": [
    {
     "output_type": "stream",
     "name": "stdout",
     "text": [
      "https://cdn.cloudflare.steamstatic.com/steamcommunity/public/images/items/1192640/53432bd360e1c41d11b40237064a588497674a9b.gif\nhttps://cdn.cloudflare.steamstatic.com/steamcommunity/public/images/items/1192640/638ff86cd1eb7b7368d146f034688280e6f0db09.gif\nhttps://cdn.cloudflare.steamstatic.com/steamcommunity/public/images/items/1192640/6aab2d2c9aac4d0e20fd73c575a7b7a3fede48f2.gif\nhttps://cdn.cloudflare.steamstatic.com/steamcommunity/public/images/items/1192640/ef45c9ebec20e7733f11eebdf9c3dd6c52667a8f.gif\nhttps://cdn.cloudflare.steamstatic.com/steamcommunity/public/images/items/1192640/dfdad6abe292c5c5a7e9840d95b8f7b95990f98a.gif\nhttps://cdn.cloudflare.steamstatic.com/steamcommunity/public/images/items/1192640/a5d812421ee84c60309e4a8f17d689e8de54772f.gif\nhttps://cdn.cloudflare.steamstatic.com/steamcommunity/public/images/items/1192640/481240abc3bcf82b23d68c9cb7a67d981bb62110.gif\n"
     ]
    }
   ],
   "source": [
    "find_class = browser.find_elements_by_class_name('rewarditem_ImageAnimatedAvatar_2YbSw')\n",
    "for source in find_class:\n",
    "    print(source.get_attribute(\"src\"))\n",
    "\n",
    "browser.quit()"
   ]
  },
  {
   "cell_type": "code",
   "execution_count": null,
   "metadata": {},
   "outputs": [],
   "source": []
  }
 ]
}