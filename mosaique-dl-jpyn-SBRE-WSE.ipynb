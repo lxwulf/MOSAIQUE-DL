{
 "metadata": {
  "language_info": {
   "codemirror_mode": {
    "name": "ipython",
    "version": 3
   },
   "file_extension": ".py",
   "mimetype": "text/x-python",
   "name": "python",
   "nbconvert_exporter": "python",
   "pygments_lexer": "ipython3",
   "version": "3.9.5-final"
  },
  "orig_nbformat": 2,
  "kernelspec": {
   "name": "python39164bit3992c481df2845c4a7be0d5c6d47936d",
   "display_name": "Python 3.9.1 64-bit"
  }
 },
 "nbformat": 4,
 "nbformat_minor": 2,
 "cells": [
  {
   "cell_type": "code",
   "execution_count": 1,
   "metadata": {},
   "outputs": [],
   "source": [
    "import os\n",
    "import time\n",
    "import requests\n",
    "import pretty_errors\n",
    "from selenium import webdriver\n",
    "from selenium.webdriver.common.keys import Keys"
   ]
  },
  {
   "cell_type": "code",
   "execution_count": 2,
   "metadata": {},
   "outputs": [],
   "source": [
    "#setup settings for chromebrowser/driver for instance start it as headless browser\n",
    "\n",
    "dlc = {\"download.default_directory\" : \"./DLC\", \"savebrowsing.enabled\" : \"false\"}\n",
    "chromeOptions = webdriver.ChromeOptions()\n",
    "chromeOptions.binary_location = r\"C:\\Program Files\\BraveSoftware\\Brave-Browser-Nightly\\Application\\brave.exe\"\n",
    "chromeOptions.add_argument('headless')\n",
    "chromeOptions.add_argument('window-size=1920x1080')\n",
    "chromeOptions.add_argument('disable-extensions')\n",
    "chromeOptions.add_experimental_option('prefs', dlc)\n",
    "chromeOptions.add_experimental_option('excludeSwitches',['enable-logging'])\n",
    "#chromeOptions.add_argument('test-type')\n",
    "\n",
    "driverselector = './drivers/chromedriver.exe'\n",
    "browser = webdriver.Chrome(driverselector, options=chromeOptions)"
   ]
  },
  {
   "cell_type": "code",
   "execution_count": 3,
   "metadata": {},
   "outputs": [],
   "source": [
    "#set a list with links (as a list, imported in python) for iterating the searching for items for every link\n",
    "\n",
    "linkdb = [\n",
    "   'https://store.steampowered.com/points/shop/app/1192640',\n",
    "   'https://store.steampowered.com/points/shop/app/1299120',\n",
    "   'https://store.steampowered.com/points/shop/app/1385730',\n",
    "   'https://store.steampowered.com/points/shop/app/1504020'\n",
    "]\n"
   ]
  },
  {
   "cell_type": "code",
   "execution_count": 4,
   "metadata": {},
   "outputs": [],
   "source": [
    "#getting links from linkdb (list)\n",
    "for links in linkdb:\n",
    "   getlinks = browser.get(links)\n",
    "   browser.implicitly_wait(1)\n",
    "#set class name and variable to use it further   \n",
    "   ani_av = browser.find_elements_by_class_name('rewarditem_ImageAnimatedAvatar_2YbSw')\n",
    "#searching for the class name in every link which is given in the link list (linkdb) and save it to a file (output.txt) after that closing file and browser\n",
    "   for items in ani_av:\n",
    "      print(items.get_attribute('src'), file=open('output.txt', 'a'))\n",
    "      file = open('output.txt', 'r')\n",
    "file.close()\n",
    "#os.remove(\"output.txt\")\n",
    "browser.quit()"
   ]
  }
 ]
}